{
 "cells": [
  {
   "attachments": {},
   "cell_type": "markdown",
   "metadata": {},
   "source": [
    "# **_Pandas Essentials_**"
   ]
  },
  {
   "attachments": {},
   "cell_type": "markdown",
   "metadata": {},
   "source": [
    "This notebook has a **didactic** purpose, regarding the practical application and annotations about my learning process with Pandas Library. "
   ]
  },
  {
   "attachments": {},
   "cell_type": "markdown",
   "metadata": {},
   "source": [
    "\n",
    "### **Packages used in this Notebook**"
   ]
  },
  {
   "cell_type": "code",
   "execution_count": 3,
   "metadata": {},
   "outputs": [],
   "source": [
    "# Packages used in this Notebook\n",
    "import pandas as pd"
   ]
  },
  {
   "attachments": {},
   "cell_type": "markdown",
   "metadata": {},
   "source": [
    "# **Data Manipulation with Pandas**"
   ]
  },
  {
   "attachments": {},
   "cell_type": "markdown",
   "metadata": {},
   "source": [
    "## **1. Basic Dataset Manipulation**"
   ]
  },
  {
   "attachments": {},
   "cell_type": "markdown",
   "metadata": {},
   "source": [
    "* **Dataset**: [Gas Prices in Brazil](https://www.kaggle.com/matheusfreitag/gas-prices-in-brazil)\n",
    "\n",
    "* This dataset contains the records of weekly average fuel prices in Brazil between the years 2004 and 2019. \n",
    "\n",
    "* Each observation (record/line) consists of a measured price record for a given type of fuel in a given location in Brazil.\n",
    "\n",
    "* Some of the main attributes (columns) of the dataset are: **'STATUS', 'PRODUCT', 'NUMBER OF SEARCHED STATIONS', 'AVERAGE RESALE PRICE'**.\n",
    "\n",
    "\n",
    "* The file available in Kaggle is in **TSV** format. Although **Pandas** manages to open it normally, we convert this file to **CSV** format, which is one of the most used formats, and change its separator to ';' just to show some options of loading function."
   ]
  },
  {
   "attachments": {},
   "cell_type": "markdown",
   "metadata": {},
   "source": [
    "### **1.1 Importing the Dataset**"
   ]
  },
  {
   "attachments": {},
   "cell_type": "markdown",
   "metadata": {},
   "source": [
    "To load a dataset in **CSV** format, simply use the `read_csv()` method in Pandas. By default it considers ',' as separator."
   ]
  },
  {
   "cell_type": "code",
   "execution_count": 4,
   "metadata": {},
   "outputs": [],
   "source": [
    "# Load the dataset and return a DataFrame instance with your archive data\n",
    "data = pd.read_csv('./GasPricesinBrazil.csv')"
   ]
  },
  {
   "cell_type": "code",
   "execution_count": null,
   "metadata": {},
   "outputs": [],
   "source": [
    "# Visualizating the dataframe\n",
    "data"
   ]
  },
  {
   "attachments": {},
   "cell_type": "markdown",
   "metadata": {},
   "source": [
    "### **1.2 Displaying the first rows of the Dataset**"
   ]
  },
  {
   "attachments": {},
   "cell_type": "markdown",
   "metadata": {},
   "source": [
    "The `head()` method displays the first 5 rows of the Dataset/Table/DataFrame."
   ]
  },
  {
   "cell_type": "code",
   "execution_count": null,
   "metadata": {},
   "outputs": [],
   "source": [
    "data.head()"
   ]
  },
  {
   "attachments": {},
   "cell_type": "markdown",
   "metadata": {},
   "source": [
    "### **1.3 Dataset information and Key Elements**"
   ]
  },
  {
   "attachments": {},
   "cell_type": "markdown",
   "metadata": {},
   "source": [
    "### **1.3.1 General information about the Dataset**"
   ]
  },
  {
   "cell_type": "code",
   "execution_count": null,
   "metadata": {},
   "outputs": [],
   "source": [
    "# Display Table/DataFrame/Dataset metadata\n",
    "data.info()"
   ]
  },
  {
   "attachments": {},
   "cell_type": "markdown",
   "metadata": {},
   "source": [
    "\n",
    "\n",
    "Apparently, no attribute/column has null values (**null**), since the number of records in the dataframe and the number of **non-null** values is **106823**.\n",
    "But we will see that this is not the case in this case.\n",
    " \n",
    "Also, note that some attributes/columns, e.g. eg '**PREÇO MÉDIO DISTRIBUIÇÃO**', has data type **object** instead of **float**. This **object**, in general, represents **strings**. This looks strange and suspicious. I will see if this is problematic later on."
   ]
  },
  {
   "attachments": {},
   "cell_type": "markdown",
   "metadata": {},
   "source": [
    "### **1.3.2 Data Frame**"
   ]
  },
  {
   "attachments": {},
   "cell_type": "markdown",
   "metadata": {},
   "source": [
    "Every loaded dataset ([structured data](https://aws.amazon.com/pt/what-is/structured-data/#:~:text=Structured%20data%20is%20data%20that,that%20clearly%20define%20data%20attributes.)) is a Data Frame: _**Two-Dimensional Table**_, of changeable size, with potentially [heterogeneous data](http://pubs.sciepub.com/acis/3/1/3/#:~:text=Heterogeneous%20data%20are%20any%20data,high%20data%20redundancy%2C%20and%20untruthfulness.)."
   ]
  },
  {
   "cell_type": "code",
   "execution_count": null,
   "metadata": {},
   "outputs": [],
   "source": [
    "type(data)"
   ]
  },
  {
   "attachments": {},
   "cell_type": "markdown",
   "metadata": {},
   "source": [
    "We can access the Data Frame dimensions (number of rows x number of columns) using the `shape` attribute of the Data Frame."
   ]
  },
  {
   "cell_type": "code",
   "execution_count": null,
   "metadata": {},
   "outputs": [],
   "source": [
    "data.shape"
   ]
  },
  {
   "cell_type": "code",
   "execution_count": null,
   "metadata": {},
   "outputs": [],
   "source": [
    "print(f'The DataFrame has {data.shape[0]} Rows/Notes/Records and {data.shape[1]} Columns/Attributes/Variables')"
   ]
  },
  {
   "attachments": {},
   "cell_type": "markdown",
   "metadata": {},
   "source": [
    "#### **Creating a DataFrame**"
   ]
  },
  {
   "attachments": {},
   "cell_type": "markdown",
   "metadata": {},
   "source": [
    "We can create a Data Frame from a **dictionary**, where each **key** has a list of elements of equal size.\n",
    "\n",
    "The **keys** represent the **columns** and **each of the values in its list** represents the corresponding **row value** for that **column**."
   ]
  },
  {
   "cell_type": "code",
   "execution_count": null,
   "metadata": {},
   "outputs": [],
   "source": [
    "characters_df = pd.DataFrame({\n",
    "    'name': ['Luke Skywalker', 'Yoda', 'Palpatine'],\n",
    "    'age': [16, 10, 70],\n",
    "    'weight': [70.5, 15.2, 60.1],\n",
    "    'jedi': [True, True, False]  \n",
    "    })"
   ]
  },
  {
   "cell_type": "code",
   "execution_count": null,
   "metadata": {},
   "outputs": [],
   "source": [
    "characters_df"
   ]
  },
  {
   "attachments": {},
   "cell_type": "markdown",
   "metadata": {},
   "source": [
    "#### **Renaming Columns in a Data Frame**"
   ]
  },
  {
   "attachments": {},
   "cell_type": "markdown",
   "metadata": {},
   "source": [
    "The atribute `DataFrame.columns` return a \\\"list\\\" with the names of all columns of the Data Frame.\n"
   ]
  },
  {
   "cell_type": "code",
   "execution_count": null,
   "metadata": {},
   "outputs": [],
   "source": [
    "characters_df.columns"
   ]
  },
  {
   "attachments": {},
   "cell_type": "markdown",
   "metadata": {},
   "source": [
    "\n",
    "To rename columns of the Data Frame, use the method `DataFrame.rename()`: Return a **copy** of Data Frame with renamed columns."
   ]
  },
  {
   "cell_type": "code",
   "execution_count": null,
   "metadata": {},
   "outputs": [],
   "source": [
    "characters_df_renamed = characters_df.rename(columns={'jedi': 'is jedi'})  # Rename the column 'Jedi' to 'Is Jedi"
   ]
  },
  {
   "cell_type": "code",
   "execution_count": null,
   "metadata": {},
   "outputs": [],
   "source": [
    "characters_df_renamed"
   ]
  },
  {
   "cell_type": "code",
   "execution_count": null,
   "metadata": {},
   "outputs": [],
   "source": [
    "characters_df"
   ]
  },
  {
   "attachments": {},
   "cell_type": "markdown",
   "metadata": {},
   "source": [
    "To rename the self Data Frame, use the parameter `inplace=True`."
   ]
  },
  {
   "cell_type": "code",
   "execution_count": null,
   "metadata": {},
   "outputs": [],
   "source": [
    "characters_df.rename(columns={'jedi': 'is jedi'}, inplace=True)"
   ]
  },
  {
   "cell_type": "code",
   "execution_count": null,
   "metadata": {},
   "outputs": [],
   "source": [
    "characters_df"
   ]
  },
  {
   "attachments": {},
   "cell_type": "markdown",
   "metadata": {},
   "source": [
    "Another way to rename all columns of a Data Frame is to pass a \\\"list\\\" with the new column names to the `DataFrame.columns` attribute:"
   ]
  },
  {
   "cell_type": "code",
   "execution_count": null,
   "metadata": {},
   "outputs": [],
   "source": [
    "characters_df.columns"
   ]
  },
  {
   "cell_type": "code",
   "execution_count": null,
   "metadata": {},
   "outputs": [],
   "source": [
    "characters_df.columns = ['Name', 'Age', 'Weight', 'Is_Jedi']"
   ]
  },
  {
   "cell_type": "code",
   "execution_count": null,
   "metadata": {},
   "outputs": [],
   "source": [
    "characters_df.columns"
   ]
  },
  {
   "attachments": {},
   "cell_type": "markdown",
   "metadata": {},
   "source": [
    "### **1.3.3 Series**"
   ]
  },
  {
   "attachments": {},
   "cell_type": "markdown",
   "metadata": {},
   "source": [
    "**One-Dimensional Array** with the data and labels of an axis."
   ]
  },
  {
   "cell_type": "code",
   "execution_count": null,
   "metadata": {},
   "outputs": [],
   "source": [
    "data.head()"
   ]
  },
  {
   "cell_type": "code",
   "execution_count": null,
   "metadata": {},
   "outputs": [],
   "source": [
    "# Selecting a single column\n",
    "data['ESTADO']"
   ]
  },
  {
   "cell_type": "code",
   "execution_count": null,
   "metadata": {},
   "outputs": [],
   "source": [
    "# This way of accessing columns, will only work If the column name does not contain blanks or special characters\n",
    "data.ESTADO"
   ]
  },
  {
   "cell_type": "code",
   "execution_count": null,
   "metadata": {},
   "outputs": [],
   "source": [
    "type(data.ESTADO)"
   ]
  },
  {
   "cell_type": "code",
   "execution_count": null,
   "metadata": {},
   "outputs": [],
   "source": [
    "# Selecting indexed information at index [1] of the Data Frame\n",
    "data.iloc[1]"
   ]
  },
  {
   "attachments": {},
   "cell_type": "markdown",
   "metadata": {},
   "source": [
    "#### **Creating a Series**"
   ]
  },
  {
   "attachments": {},
   "cell_type": "markdown",
   "metadata": {},
   "source": [
    "We can create a Series from a list of elements.\n"
   ]
  },
  {
   "attachments": {},
   "cell_type": "markdown",
   "metadata": {},
   "source": [
    "We can change the name of the indexes and the name of the Series (what it represents):"
   ]
  },
  {
   "cell_type": "code",
   "execution_count": null,
   "metadata": {},
   "outputs": [],
   "source": [
    "pd.Series([10, 8.5, 7.0], index=['M1', 'M2', 'M3'], name='Notes')"
   ]
  },
  {
   "attachments": {},
   "cell_type": "markdown",
   "metadata": {},
   "source": [
    "### **1.3.4 Assigning Data**"
   ]
  },
  {
   "attachments": {},
   "cell_type": "markdown",
   "metadata": {},
   "source": [
    "#### **1.3.4.1 Assigning constants**"
   ]
  },
  {
   "cell_type": "code",
   "execution_count": null,
   "metadata": {},
   "outputs": [],
   "source": [
    "product_view = data['PRODUTO']  # Returned Series are visualizations of data, not a copy.\n",
    "product_view"
   ]
  },
  {
   "cell_type": "code",
   "execution_count": null,
   "metadata": {},
   "outputs": [],
   "source": [
    "product_copy = data[\"PRODUTO\"].copy()  # Return a copy of \"Product\" column  \n",
    "product_copy.head()"
   ]
  },
  {
   "cell_type": "code",
   "execution_count": null,
   "metadata": {},
   "outputs": [],
   "source": [
    "data[\"PRODUTO\"] = \"Fuel\"\n",
    "data.head()"
   ]
  },
  {
   "cell_type": "code",
   "execution_count": null,
   "metadata": {},
   "outputs": [],
   "source": [
    "data[\"PRODUTO\"] = product_copy  # Going back to original products\n",
    "data.head()"
   ]
  },
  {
   "attachments": {},
   "cell_type": "markdown",
   "metadata": {},
   "source": [
    "#### **1.3.4.2 Assigning lists or Series**"
   ]
  },
  {
   "cell_type": "code",
   "execution_count": null,
   "metadata": {},
   "outputs": [],
   "source": [
    "nrows, ncolumns = data.shape\n",
    "nrows, ncolumns"
   ]
  },
  {
   "cell_type": "code",
   "execution_count": null,
   "metadata": {},
   "outputs": [],
   "source": [
    "new_products = [f\"Product {i}\" for i in range(nrows)]\n",
    "new_products[:11]"
   ]
  },
  {
   "cell_type": "code",
   "execution_count": null,
   "metadata": {},
   "outputs": [],
   "source": [
    "data[\"PRODUTO\"] = new_products\n",
    "data.head()"
   ]
  },
  {
   "cell_type": "code",
   "execution_count": null,
   "metadata": {},
   "outputs": [],
   "source": [
    "data[\"PRODUTO\"] = product_copy  # Going back to original products\n",
    "data.head()"
   ]
  },
  {
   "attachments": {},
   "cell_type": "markdown",
   "metadata": {},
   "source": [
    "#### **1.3.4.3 Creating new columns**"
   ]
  },
  {
   "attachments": {},
   "cell_type": "markdown",
   "metadata": {},
   "source": [
    "To **create a new column** in a Data Frame, just assign a list/Series of values or a constant to a new **key** of the Data Frame.\n",
    "\n",
    "**PS:** The **number of values** in the list must be **equal** to the **number of rows/records** in the Data Frame."
   ]
  },
  {
   "cell_type": "code",
   "execution_count": null,
   "metadata": {},
   "outputs": [],
   "source": [
    "# Creating a column from a Constant/Default value\n",
    "# All rows will have the same value to this column\n",
    "data[\"Dumb Column\"] = \"Default\""
   ]
  },
  {
   "cell_type": "code",
   "execution_count": null,
   "metadata": {},
   "outputs": [],
   "source": [
    "data[\"Dumb Column\"]"
   ]
  },
  {
   "cell_type": "code",
   "execution_count": null,
   "metadata": {},
   "outputs": [],
   "source": [
    "data[\"Column from a List\"] =  range(nrows)"
   ]
  },
  {
   "cell_type": "code",
   "execution_count": null,
   "metadata": {},
   "outputs": [],
   "source": [
    "data[\"Column from a List\"]\n"
   ]
  },
  {
   "cell_type": "code",
   "execution_count": null,
   "metadata": {},
   "outputs": [],
   "source": [
    "# It doesn't work because a new column to be\n",
    "# Inserted must have the same number of elements\n",
    "# As the number of rows in the table\n",
    "\n",
    "try:\n",
    "    data[\"Does not Works\"] = [1, 2, 3]\n",
    "    \n",
    "except ValueError as err:\n",
    "    print(err)\n"
   ]
  },
  {
   "attachments": {},
   "cell_type": "markdown",
   "metadata": {},
   "source": [
    "Another example:"
   ]
  },
  {
   "cell_type": "code",
   "execution_count": null,
   "metadata": {},
   "outputs": [],
   "source": [
    "data[\"PREÇO MÉDIO REVENDA (DÓLARES)\"] = data[\"PREÇO MÉDIO REVENDA\"] * 6\n",
    "data\n"
   ]
  },
  {
   "attachments": {},
   "cell_type": "markdown",
   "metadata": {},
   "source": [
    "**PS:** Obviously, the correct logic for converting fuel prices in reais into dollars is not to consider a fixed exchange rate, since each price was measured at a different time."
   ]
  },
  {
   "attachments": {},
   "cell_type": "markdown",
   "metadata": {},
   "source": [
    "### **1.3.4 Indexes**"
   ]
  },
  {
   "attachments": {},
   "cell_type": "markdown",
   "metadata": {},
   "source": [
    "Each Data Frame has **indexes** which are not considered table columns, such indices are commonly **numeric**, from zero to number_lines - 1, but can also be textual (**labels**)."
   ]
  },
  {
   "cell_type": "code",
   "execution_count": null,
   "metadata": {},
   "outputs": [],
   "source": [
    "data.head().index"
   ]
  },
  {
   "attachments": {},
   "cell_type": "markdown",
   "metadata": {},
   "source": [
    "Use ```list(data.index)``` or ```data.index.tolist()``` to convert a RangeIndex to a Python list."
   ]
  },
  {
   "attachments": {},
   "cell_type": "markdown",
   "metadata": {},
   "source": [
    "#### **Example of Data Frame with Textual Indexes (labels)**"
   ]
  },
  {
   "cell_type": "code",
   "execution_count": null,
   "metadata": {},
   "outputs": [],
   "source": [
    "satisfaction_survey = pd.DataFrame({\n",
    "    \"Good\": [50, 21, 100],\n",
    "    \"Bad\": [131, 2, 30],\n",
    "    \"Very Bad\": [30, 20, 1]\n",
    "}, index='XboxOne Playstation4 Switch'.split())"
   ]
  },
  {
   "cell_type": "code",
   "execution_count": null,
   "metadata": {},
   "outputs": [],
   "source": [
    "satisfaction_survey.head()"
   ]
  },
  {
   "cell_type": "code",
   "execution_count": null,
   "metadata": {},
   "outputs": [],
   "source": [
    "satisfaction_survey.index"
   ]
  },
  {
   "attachments": {},
   "cell_type": "markdown",
   "metadata": {},
   "source": [
    "### **1.4 Selecting one or more observations (Indexing)**"
   ]
  },
  {
   "attachments": {},
   "cell_type": "markdown",
   "metadata": {},
   "source": [
    "**Index-Based Selection**"
   ]
  },
  {
   "attachments": {},
   "cell_type": "markdown",
   "metadata": {},
   "source": [
    "``` iloc ```: select elements from a Data Frame, based on their **index (number)** -> row-first & column-second"
   ]
  },
  {
   "attachments": {},
   "cell_type": "markdown",
   "metadata": {},
   "source": [
    "**Selecting a Observation/Row**"
   ]
  },
  {
   "cell_type": "code",
   "execution_count": 7,
   "metadata": {},
   "outputs": [],
   "source": [
    "# Selecting first line of data frame\n",
    "first_row = data.iloc[0]"
   ]
  },
  {
   "cell_type": "code",
   "execution_count": null,
   "metadata": {},
   "outputs": [],
   "source": [
    "first_row"
   ]
  },
  {
   "cell_type": "code",
   "execution_count": null,
   "metadata": {},
   "outputs": [],
   "source": [
    "# Slicing at columns by label\n",
    "first_row[\"PREÇO MÍNIMO REVENDA\":\"COEF DE VARIAÇÃO DISTRIBUIÇÃO\"]"
   ]
  },
  {
   "cell_type": "code",
   "execution_count": null,
   "metadata": {},
   "outputs": [],
   "source": [
    "# Slicing at columns by index\n",
    "first_row[9:18]"
   ]
  },
  {
   "cell_type": "code",
   "execution_count": null,
   "metadata": {},
   "outputs": [],
   "source": [
    "# Selecting Rows/Observations of index 1, 5, 10 ,15\n",
    "data.iloc[[1, 5, 10, 15]]"
   ]
  }
 ],
 "metadata": {
  "kernelspec": {
   "display_name": "Python 3",
   "language": "python",
   "name": "python3"
  },
  "language_info": {
   "codemirror_mode": {
    "name": "ipython",
    "version": 3
   },
   "file_extension": ".py",
   "mimetype": "text/x-python",
   "name": "python",
   "nbconvert_exporter": "python",
   "pygments_lexer": "ipython3",
   "version": "3.10.10"
  },
  "orig_nbformat": 4
 },
 "nbformat": 4,
 "nbformat_minor": 2
}
